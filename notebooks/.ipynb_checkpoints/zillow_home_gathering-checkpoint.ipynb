{
 "cells": [
  {
   "cell_type": "code",
   "execution_count": 1,
   "metadata": {},
   "outputs": [],
   "source": [
    "import os\n",
    "import sys\n",
    "import numpy as np\n",
    "import pandas as pd\n",
    "from bs4 import BeautifulSoup\n",
    "sys.path.append(\"../python\")\n",
    "\n",
    "import zillow_parse as zp"
   ]
  },
  {
   "cell_type": "code",
   "execution_count": 2,
   "metadata": {},
   "outputs": [],
   "source": [
    "zillow_pages = zp.getZillowPages()"
   ]
  },
  {
   "cell_type": "code",
   "execution_count": 3,
   "metadata": {},
   "outputs": [],
   "source": [
    "#add contents of urls to soup variable from each url\n",
    "soup = BeautifulSoup(zillow_pages['req1'].content, 'html.parser')\n",
    "soup1 = BeautifulSoup(zillow_pages['req2'].content, 'html.parser')"
   ]
  },
  {
   "cell_type": "code",
   "execution_count": 4,
   "metadata": {},
   "outputs": [],
   "source": [
    "all_homes_df = pd.DataFrame()"
   ]
  },
  {
   "cell_type": "code",
   "execution_count": 5,
   "metadata": {},
   "outputs": [],
   "source": [
    "all_homes_df = zp.gatherZillowDetails(all_homes_df, soup)\n",
    "all_homes_df = zp.gatherZillowDetails(all_homes_df, soup1)"
   ]
  },
  {
   "cell_type": "code",
   "execution_count": 8,
   "metadata": {},
   "outputs": [],
   "source": [
    "parsed_df = zp.parseZillowDetails(all_homes_df)"
   ]
  },
  {
   "cell_type": "code",
   "execution_count": 41,
   "metadata": {},
   "outputs": [
    {
     "name": "stdout",
     "output_type": "stream",
     "text": [
      "https://www.zillow.com/homedetails/4930-N-Damen-Ave-1-Chicago-IL-60625/2077702013_zpid/\n"
     ]
    }
   ],
   "source": [
    "link = parsed_df.links[10]\n",
    "print(link)"
   ]
  },
  {
   "cell_type": "code",
   "execution_count": 40,
   "metadata": {},
   "outputs": [
    {
     "data": {
      "text/plain": [
       "'https://www.zillow.com/homedetails/2035-W-Leland-Ave-Chicago-IL-60625/2082999865_zpid/'"
      ]
     },
     "execution_count": 40,
     "metadata": {},
     "output_type": "execute_result"
    }
   ],
   "source": []
  },
  {
   "cell_type": "code",
   "execution_count": 42,
   "metadata": {},
   "outputs": [],
   "source": [
    "ZILLOW_FEATURES = ['basement', 'flooring', 'heating features', 'cooling features', 'laundry features', \n",
    "                   'total spaces', 'parking features', 'garage spaces', 'covered spaces', 'attached garage',\n",
    "                   'construction materials', 'year built', 'hoa fee', 'annual tax amount']"
   ]
  },
  {
   "cell_type": "code",
   "execution_count": 43,
   "metadata": {},
   "outputs": [],
   "source": [
    "r = s.get(link, headers=zp.REQ_HEADERS)"
   ]
  },
  {
   "cell_type": "code",
   "execution_count": 44,
   "metadata": {},
   "outputs": [],
   "source": [
    "soup = BeautifulSoup(r.content, 'html.parser')"
   ]
  },
  {
   "cell_type": "code",
   "execution_count": 45,
   "metadata": {},
   "outputs": [
    {
     "name": "stdout",
     "output_type": "stream",
     "text": [
      "['Zestimate®', '\\xa0$852,067']\n",
      "['Zestimate®', '\\xa0$852,067']\n",
      "['Est. payment', '\\xa0']\n",
      "['Zestimate®', '\\xa0$852,067']\n",
      "['Zestimate®', '\\xa0$852,067']\n",
      "['Est. payment', '\\xa0']\n",
      "['Type', '']\n",
      "['Year built', '']\n",
      "['Heating', '']\n",
      "['Cooling', '']\n",
      "['Parking', '']\n",
      "['HOA', '']\n",
      "['Price/sqft', '']\n",
      "['Bedrooms', ' 4']\n",
      "['Bathrooms', ' 4']\n",
      "['Full bathrooms', ' 3']\n",
      "['1/2 bathrooms', ' 1']\n",
      "['Basement', ' None']\n",
      "['Heating features', ' Natural Gas, Forced Air']\n",
      "['Cooling features', ' Central Air']\n",
      "['Appliances included', ' Range, Microwave, Dishwasher, Refrigerator, High End Refrigerator, Washer, Dryer, Stainless Steel Appliance(s), Wine Refrigerator']\n",
      "['Total interior livable area', ' 3,000 sqft']\n",
      "['Total number of fireplaces', ' 1']\n",
      "['Fireplace features', ' Living Room']\n",
      "['Total spaces', ' 1']\n",
      "['Parking features', ' ']\n",
      "['Garage spaces', ' 1']\n",
      "['Covered spaces', ' 1']\n",
      "['Other parking information', ' Garage(On Site, Detached)']\n",
      "['Parcel number', ' 14073170300000']\n",
      "['Special conditions', ' None']\n",
      "['Home type', ' Residential']\n",
      "['Construction materials', ' Brick, Limestone']\n",
      "['Roof', ' Rubber']\n",
      "['New construction', ' Yes']\n",
      "['Year built', ' 2021']\n",
      "['Sewer information', ' Public Sewer']\n",
      "['Region', ' Chicago']\n",
      "['HOA fee', ' $295/mo']\n",
      "['Services included', ' Water, Insurance, Exterior Maintenance, Scavenger']\n",
      "['Estimated sales range', ' $809,000 - $895,000']\n",
      "['Estimated sales range', ' $809,000 - $895,000']\n",
      "['Estimated sales range', ' $809,000 - $895,000']\n",
      "['Source', ' MRED as distributed by MLS GRID']\n",
      "['Grades', ' PK-8Distance', ' 0.2 mi']\n",
      "['Grades', ' 9-12Distance', ' 0.2 mi']\n",
      "['Follow us', '']\n"
     ]
    }
   ],
   "source": [
    "for span in soup.find_all('span'):\n",
    "    span_txt = span.get_text()\n",
    "    if ':' in span_txt:\n",
    "        print(span_txt.split(':'))"
   ]
  },
  {
   "cell_type": "code",
   "execution_count": null,
   "metadata": {},
   "outputs": [],
   "source": []
  },
  {
   "cell_type": "code",
   "execution_count": null,
   "metadata": {},
   "outputs": [],
   "source": []
  },
  {
   "cell_type": "code",
   "execution_count": null,
   "metadata": {},
   "outputs": [],
   "source": [
    "#calculate the zestimate and insert into a dataframe\n",
    "zillow_zestimate = []\n",
    "for link in df['links']:\n",
    "    r = s.get(link, headers=req_headers)\n",
    "    soup = BeautifulSoup(r.content, 'html.parser')\n",
    "    home_value = soup.select_one('h4:contains(\"Home value\")')\n",
    "    if not home_value:\n",
    "        home_value = soup.select_one('.zestimate').text.split()[-1]\n",
    "    else:\n",
    "        home_value = home_value.find_next('p').get_text(strip=True)\n",
    "    zillow_zestimate.append(home_value)\n",
    "\n",
    "cols=['zestimate']\n",
    "zestimate_result = pd.DataFrame(zillow_zestimate, columns=cols)\n",
    "# zestimate_result\n",
    "\n",
    "#convert zestimate column to float, and remove , and $\n",
    "zestimate_result['zestimate'] = zestimate_result['zestimate'].str.replace('$','')\n",
    "zestimate_result['zestimate'] = zestimate_result['zestimate'].str.replace('/mo','')\n",
    "zestimate_result['zestimate'] = zestimate_result['zestimate'].str.replace(',','')\n",
    "\n",
    "#covert rows with non zestimate to 0\n",
    "def non_zestimate(zestimate_result):\n",
    "    if len(zestimate_result['zestimate']) > 20:\n",
    "        return '0'\n",
    "    elif len(zestimate_result['zestimate']) < 5:\n",
    "        return '0'\n",
    "    else:\n",
    "        return zestimate_result['zestimate']\n",
    "\n",
    "zestimate_result['zestimate'] = zestimate_result.apply(non_zestimate,axis=1)\n",
    "\n",
    "# zestimate_result\n",
    "\n",
    "#concat zestimate dataframe and original df\n",
    "df = pd.concat([df, zestimate_result], axis=1)\n",
    "df['zestimate'] = df['zestimate'].astype('float')\n",
    "\n",
    "#create best deal column and sort by best_deal\n",
    "df ['best_deal'] = df['prices'] - df['zestimate']\n",
    "df = df.sort_values(by='best_deal')\n",
    "\n",
    "df"
   ]
  },
  {
   "cell_type": "code",
   "execution_count": null,
   "metadata": {},
   "outputs": [],
   "source": []
  },
  {
   "cell_type": "code",
   "execution_count": null,
   "metadata": {},
   "outputs": [],
   "source": []
  }
 ],
 "metadata": {
  "kernelspec": {
   "display_name": "Python 3",
   "language": "python",
   "name": "python3"
  },
  "language_info": {
   "codemirror_mode": {
    "name": "ipython",
    "version": 3
   },
   "file_extension": ".py",
   "mimetype": "text/x-python",
   "name": "python",
   "nbconvert_exporter": "python",
   "pygments_lexer": "ipython3",
   "version": "3.8.3"
  }
 },
 "nbformat": 4,
 "nbformat_minor": 4
}
