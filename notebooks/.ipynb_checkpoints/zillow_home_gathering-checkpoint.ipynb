{
 "cells": [
  {
   "cell_type": "code",
   "execution_count": 31,
   "metadata": {},
   "outputs": [],
   "source": [
    "import os\n",
    "import sys\n",
    "import numpy as np\n",
    "import pandas as pd\n",
    "from bs4 import BeautifulSoup\n",
    "sys.path.append(\"../python\")\n",
    "\n",
    "import general\n",
    "import zillow_parse as zp"
   ]
  },
  {
   "cell_type": "code",
   "execution_count": 32,
   "metadata": {},
   "outputs": [],
   "source": [
    "zillow_pages = zp.getZillowPages()"
   ]
  },
  {
   "cell_type": "code",
   "execution_count": 33,
   "metadata": {},
   "outputs": [],
   "source": [
    "#add contents of urls to soup variable from each url\n",
    "soup = BeautifulSoup(zillow_pages['req1'].content, 'html.parser')\n",
    "soup1 = BeautifulSoup(zillow_pages['req2'].content, 'html.parser')"
   ]
  },
  {
   "cell_type": "code",
   "execution_count": 34,
   "metadata": {},
   "outputs": [],
   "source": [
    "all_homes_df = pd.DataFrame()"
   ]
  },
  {
   "cell_type": "code",
   "execution_count": 35,
   "metadata": {},
   "outputs": [],
   "source": [
    "all_homes_df = zp.gatherZillowDetails(all_homes_df, soup)\n",
    "all_homes_df = zp.gatherZillowDetails(all_homes_df, soup1)"
   ]
  },
  {
   "cell_type": "code",
   "execution_count": 36,
   "metadata": {},
   "outputs": [],
   "source": [
    "parsed_df = zp.parseZillowDetails(all_homes_df)"
   ]
  },
  {
   "cell_type": "code",
   "execution_count": 37,
   "metadata": {},
   "outputs": [
    {
     "data": {
      "text/html": [
       "<div>\n",
       "<style scoped>\n",
       "    .dataframe tbody tr th:only-of-type {\n",
       "        vertical-align: middle;\n",
       "    }\n",
       "\n",
       "    .dataframe tbody tr th {\n",
       "        vertical-align: top;\n",
       "    }\n",
       "\n",
       "    .dataframe thead th {\n",
       "        text-align: right;\n",
       "    }\n",
       "</style>\n",
       "<table border=\"1\" class=\"dataframe\">\n",
       "  <thead>\n",
       "    <tr style=\"text-align: right;\">\n",
       "      <th></th>\n",
       "      <th>prices</th>\n",
       "      <th>address</th>\n",
       "      <th>links</th>\n",
       "      <th>beds</th>\n",
       "      <th>baths</th>\n",
       "      <th>sq_feet</th>\n",
       "    </tr>\n",
       "  </thead>\n",
       "  <tbody>\n",
       "    <tr>\n",
       "      <th>0</th>\n",
       "      <td>435000.0</td>\n",
       "      <td>5067 N Lincoln Ave APT 304 Chicago IL 60625</td>\n",
       "      <td>https://www.zillow.com/homedetails/5067-N-Linc...</td>\n",
       "      <td>3</td>\n",
       "      <td>2</td>\n",
       "      <td>1587</td>\n",
       "    </tr>\n",
       "    <tr>\n",
       "      <th>1</th>\n",
       "      <td>209900.0</td>\n",
       "      <td>4923 N Wolcott Ave APT 2B Chicago IL 60640</td>\n",
       "      <td>https://www.zillow.com/homedetails/4923-N-Wolc...</td>\n",
       "      <td>1</td>\n",
       "      <td>1</td>\n",
       "      <td>900</td>\n",
       "    </tr>\n",
       "    <tr>\n",
       "      <th>2</th>\n",
       "      <td>1037000.0</td>\n",
       "      <td>4932 N Mozart St Chicago IL 60625</td>\n",
       "      <td>https://www.zillow.com/homedetails/4932-N-Moza...</td>\n",
       "      <td>5</td>\n",
       "      <td>3</td>\n",
       "      <td>-1</td>\n",
       "    </tr>\n",
       "    <tr>\n",
       "      <th>3</th>\n",
       "      <td>339900.0</td>\n",
       "      <td>4924 N Rockwell St APT 1N Chicago IL 60625</td>\n",
       "      <td>https://www.zillow.com/homedetails/4924-N-Rock...</td>\n",
       "      <td>2</td>\n",
       "      <td>2</td>\n",
       "      <td>-1</td>\n",
       "    </tr>\n",
       "    <tr>\n",
       "      <th>4</th>\n",
       "      <td>274900.0</td>\n",
       "      <td>2144 W Giddings St #2 Chicago IL 60625</td>\n",
       "      <td>https://www.zillow.com/homedetails/2144-W-Gidd...</td>\n",
       "      <td>2</td>\n",
       "      <td>1</td>\n",
       "      <td>-1</td>\n",
       "    </tr>\n",
       "  </tbody>\n",
       "</table>\n",
       "</div>"
      ],
      "text/plain": [
       "      prices                                        address  \\\n",
       "0   435000.0   5067 N Lincoln Ave APT 304 Chicago IL 60625    \n",
       "1   209900.0    4923 N Wolcott Ave APT 2B Chicago IL 60640    \n",
       "2  1037000.0             4932 N Mozart St Chicago IL 60625    \n",
       "3   339900.0    4924 N Rockwell St APT 1N Chicago IL 60625    \n",
       "4   274900.0        2144 W Giddings St #2 Chicago IL 60625    \n",
       "\n",
       "                                               links  beds  baths  sq_feet  \n",
       "0  https://www.zillow.com/homedetails/5067-N-Linc...     3      2     1587  \n",
       "1  https://www.zillow.com/homedetails/4923-N-Wolc...     1      1      900  \n",
       "2  https://www.zillow.com/homedetails/4932-N-Moza...     5      3       -1  \n",
       "3  https://www.zillow.com/homedetails/4924-N-Rock...     2      2       -1  \n",
       "4  https://www.zillow.com/homedetails/2144-W-Gidd...     2      1       -1  "
      ]
     },
     "execution_count": 37,
     "metadata": {},
     "output_type": "execute_result"
    }
   ],
   "source": [
    "parsed_df.head()"
   ]
  },
  {
   "cell_type": "code",
   "execution_count": 7,
   "metadata": {},
   "outputs": [
    {
     "name": "stdout",
     "output_type": "stream",
     "text": [
      "https://www.zillow.com/homedetails/4847-N-Seeley-Ave-Chicago-IL-60625/54533290_zpid/\n"
     ]
    }
   ],
   "source": [
    "link = parsed_df.links[10]\n",
    "print(link)"
   ]
  },
  {
   "cell_type": "code",
   "execution_count": null,
   "metadata": {},
   "outputs": [],
   "source": []
  },
  {
   "cell_type": "code",
   "execution_count": 12,
   "metadata": {},
   "outputs": [],
   "source": [
    "ZILLOW_FEATURES = ['basement', 'flooring', 'heating features', 'cooling features', 'laundry features', \n",
    "                   'total spaces', 'parking features', 'garage spaces', 'covered spaces', 'attached garage',\n",
    "                   'construction materials', 'year built', 'hoa fee', 'annual tax amount']"
   ]
  },
  {
   "cell_type": "code",
   "execution_count": 14,
   "metadata": {},
   "outputs": [],
   "source": [
    "import requests \n",
    "with requests.Session() as s:\n",
    "    r = s.get(link, headers=zp.REQ_HEADERS)"
   ]
  },
  {
   "cell_type": "code",
   "execution_count": 15,
   "metadata": {},
   "outputs": [],
   "source": [
    "soup = BeautifulSoup(r.content, 'html.parser')"
   ]
  },
  {
   "cell_type": "code",
   "execution_count": 29,
   "metadata": {},
   "outputs": [],
   "source": [
    "zillow_details = {}\n",
    "\n",
    "details_found = {}\n",
    "for feature in ZILLOW_FEATURES:\n",
    "    details_found[feature] = 0\n",
    "    \n",
    "\n",
    "retrieved_zestimate = False # So we can grab once and only once\n",
    "for span in soup.find_all('span'):\n",
    "    span_txt = span.get_text()\n",
    "    if ':' in span_txt:\n",
    "        split_span = [s.lower() for s in span_txt.split(':')]\n",
    "        if len(split_span) == 2:\n",
    "            if 'zestimate' in split_span[0] and not retrieved_zestimate:\n",
    "                general.safeAppend(zillow_details, 'zestimate', int(split_span[1].split('$')[-1].replace(',','')))\n",
    "                retrieved_zestimate = True\n",
    "            for feature in ZILLOW_FEATURES:\n",
    "                if split_span[0] in feature and details_found[feature] == 0 and len(split_span[1])>0:\n",
    "                    general.safeAppend(zillow_details, feature, split_span[1].strip())\n",
    "                    details_found[feature] = 1 # Feature located\n",
    "\n",
    "for feature in ZILLOW_FEATURES:\n",
    "    if details_found[feature] == 0: # Still haven't found it\n",
    "        general.safeAppend(zillow_details, feature, -1)"
   ]
  },
  {
   "cell_type": "code",
   "execution_count": 30,
   "metadata": {},
   "outputs": [
    {
     "data": {
      "text/plain": [
       "{'zestimate': [1008372],\n",
       " 'basement': ['full,english,finished'],\n",
       " 'flooring': ['hardwood'],\n",
       " 'heating features': ['natural gas, forced air, zoned'],\n",
       " 'cooling features': ['central air, zoned'],\n",
       " 'laundry features': ['2nd floor laundry, flooring(porcelain tile), 2nd level, size(05x06)'],\n",
       " 'total spaces': ['2'],\n",
       " 'parking features': ['garage'],\n",
       " 'garage spaces': ['2'],\n",
       " 'covered spaces': ['2'],\n",
       " 'construction materials': ['vinyl siding'],\n",
       " 'year built': ['1996'],\n",
       " 'attached garage': [-1],\n",
       " 'hoa fee': [-1],\n",
       " 'annual tax amount': [-1]}"
      ]
     },
     "execution_count": 30,
     "metadata": {},
     "output_type": "execute_result"
    }
   ],
   "source": [
    "zillow_details"
   ]
  },
  {
   "cell_type": "code",
   "execution_count": null,
   "metadata": {},
   "outputs": [],
   "source": []
  },
  {
   "cell_type": "code",
   "execution_count": null,
   "metadata": {},
   "outputs": [],
   "source": [
    "#calculate the zestimate and insert into a dataframe\n",
    "zillow_zestimate = []\n",
    "for link in df['links']:\n",
    "    r = s.get(link, headers=req_headers)\n",
    "    soup = BeautifulSoup(r.content, 'html.parser')\n",
    "    home_value = soup.select_one('h4:contains(\"Home value\")')\n",
    "    if not home_value:\n",
    "        home_value = soup.select_one('.zestimate').text.split()[-1]\n",
    "    else:\n",
    "        home_value = home_value.find_next('p').get_text(strip=True)\n",
    "    zillow_zestimate.append(home_value)\n",
    "\n",
    "cols=['zestimate']\n",
    "zestimate_result = pd.DataFrame(zillow_zestimate, columns=cols)\n",
    "# zestimate_result\n",
    "\n",
    "#convert zestimate column to float, and remove , and $\n",
    "zestimate_result['zestimate'] = zestimate_result['zestimate'].str.replace('$','')\n",
    "zestimate_result['zestimate'] = zestimate_result['zestimate'].str.replace('/mo','')\n",
    "zestimate_result['zestimate'] = zestimate_result['zestimate'].str.replace(',','')\n",
    "\n",
    "#covert rows with non zestimate to 0\n",
    "def non_zestimate(zestimate_result):\n",
    "    if len(zestimate_result['zestimate']) > 20:\n",
    "        return '0'\n",
    "    elif len(zestimate_result['zestimate']) < 5:\n",
    "        return '0'\n",
    "    else:\n",
    "        return zestimate_result['zestimate']\n",
    "\n",
    "zestimate_result['zestimate'] = zestimate_result.apply(non_zestimate,axis=1)\n",
    "\n",
    "# zestimate_result\n",
    "\n",
    "#concat zestimate dataframe and original df\n",
    "df = pd.concat([df, zestimate_result], axis=1)\n",
    "df['zestimate'] = df['zestimate'].astype('float')\n",
    "\n",
    "#create best deal column and sort by best_deal\n",
    "df ['best_deal'] = df['prices'] - df['zestimate']\n",
    "df = df.sort_values(by='best_deal')\n",
    "\n",
    "df"
   ]
  },
  {
   "cell_type": "code",
   "execution_count": null,
   "metadata": {},
   "outputs": [],
   "source": []
  },
  {
   "cell_type": "code",
   "execution_count": null,
   "metadata": {},
   "outputs": [],
   "source": []
  }
 ],
 "metadata": {
  "kernelspec": {
   "display_name": "Python 3",
   "language": "python",
   "name": "python3"
  },
  "language_info": {
   "codemirror_mode": {
    "name": "ipython",
    "version": 3
   },
   "file_extension": ".py",
   "mimetype": "text/x-python",
   "name": "python",
   "nbconvert_exporter": "python",
   "pygments_lexer": "ipython3",
   "version": "3.8.3"
  }
 },
 "nbformat": 4,
 "nbformat_minor": 4
}
