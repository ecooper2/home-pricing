{
 "cells": [
  {
   "cell_type": "code",
   "execution_count": 1,
   "metadata": {},
   "outputs": [],
   "source": [
    "import os\n",
    "import sys\n",
    "import numpy as np\n",
    "import pandas as pd\n",
    "from bs4 import BeautifulSoup\n",
    "sys.path.append(\"../python\")\n",
    "\n",
    "import general\n",
    "import zillow_parse as zp"
   ]
  },
  {
   "cell_type": "code",
   "execution_count": 2,
   "metadata": {},
   "outputs": [],
   "source": [
    "zillow_pages = zp.getZillowPages()"
   ]
  },
  {
   "cell_type": "code",
   "execution_count": 3,
   "metadata": {},
   "outputs": [],
   "source": [
    "#add contents of urls to soup variable from each url\n",
    "soup = BeautifulSoup(zillow_pages['req1'].content, 'html.parser')\n",
    "soup1 = BeautifulSoup(zillow_pages['req2'].content, 'html.parser')"
   ]
  },
  {
   "cell_type": "code",
   "execution_count": 4,
   "metadata": {},
   "outputs": [],
   "source": [
    "all_homes_df = pd.DataFrame()"
   ]
  },
  {
   "cell_type": "code",
   "execution_count": 5,
   "metadata": {},
   "outputs": [],
   "source": [
    "all_homes_df = zp.gatherZillowDetails(all_homes_df, soup)\n",
    "all_homes_df = zp.gatherZillowDetails(all_homes_df, soup1)"
   ]
  },
  {
   "cell_type": "code",
   "execution_count": 6,
   "metadata": {},
   "outputs": [],
   "source": [
    "parsed_df = zp.parseZillowDetails(all_homes_df)"
   ]
  },
  {
   "cell_type": "code",
   "execution_count": 7,
   "metadata": {},
   "outputs": [
    {
     "data": {
      "text/plain": [
       "'https://www.zillow.com/homedetails/2238-W-Carmen-Ave-Chicago-IL-60625/2095377216_zpid/'"
      ]
     },
     "execution_count": 7,
     "metadata": {},
     "output_type": "execute_result"
    }
   ],
   "source": [
    "parsed_df.links[39]"
   ]
  },
  {
   "cell_type": "code",
   "execution_count": 8,
   "metadata": {},
   "outputs": [
    {
     "data": {
      "text/plain": [
       "'https://www.zillow.com/homedetails/4940-N-Hamilton-Ave-Chicago-IL-60625/3698057_zpid/'"
      ]
     },
     "execution_count": 8,
     "metadata": {},
     "output_type": "execute_result"
    }
   ],
   "source": [
    "parsed_df.links[40]"
   ]
  },
  {
   "cell_type": "code",
   "execution_count": 9,
   "metadata": {},
   "outputs": [],
   "source": [
    "ZILLOW_FEATURES = ['basement', 'flooring', 'heating features', 'cooling features', 'laundry features', \n",
    "                   'total spaces', 'parking features', 'garage spaces', 'covered spaces', 'attached garage',\n",
    "                   'construction materials', 'year built', 'hoa fee', 'annual tax amount']"
   ]
  },
  {
   "cell_type": "code",
   "execution_count": 37,
   "metadata": {},
   "outputs": [],
   "source": [
    "def extractDetails(zillow_details, soup):\n",
    "    \n",
    "    details_found = {}\n",
    "    for feature in ZILLOW_FEATURES:\n",
    "        details_found[feature] = 0\n",
    "    \n",
    "    retrieved_zestimate = False # So we can grab once and only once\n",
    "    for span in soup.find_all('span'):\n",
    "        span_txt = span.get_text()\n",
    "        if ':' in span_txt:\n",
    "            split_span = [s.lower() for s in span_txt.split(':')]\n",
    "            if len(split_span) == 2:\n",
    "                if 'zestimate' in split_span[0] and not retrieved_zestimate and '$' in split_span[1]:\n",
    "                    general.safeAppend(zillow_details, 'zestimate', int(split_span[1].split('$')[-1].replace(',','')))\n",
    "                    retrieved_zestimate = True\n",
    "                for feature in ZILLOW_FEATURES:\n",
    "                    if len(split_span[0]) > 3 and split_span[0] in feature and details_found[feature] == 0 and len(split_span[1])>0:\n",
    "                        general.safeAppend(zillow_details, feature, split_span[1].strip())\n",
    "                        details_found[feature] = 1 # Feature located\n",
    "                        \n",
    "    for feature in ZILLOW_FEATURES:\n",
    "        if details_found[feature] == 0: # Still haven't found it\n",
    "            general.safeAppend(zillow_details, feature, -1)\n",
    "    if not retrieved_zestimate: general.safeAppend(zillow_details, 'zestimate', -1)"
   ]
  },
  {
   "cell_type": "code",
   "execution_count": 38,
   "metadata": {},
   "outputs": [
    {
     "name": "stdout",
     "output_type": "stream",
     "text": [
      "Processing link 0 of 80\n",
      "Processing link 10 of 80\n",
      "Processing link 20 of 80\n",
      "Processing link 30 of 80\n",
      "Processing link 40 of 80\n",
      "Processing link 50 of 80\n",
      "Processing link 60 of 80\n",
      "Processing link 70 of 80\n"
     ]
    }
   ],
   "source": [
    "import requests \n",
    "\n",
    "L = len(parsed_df)\n",
    "zillow_details = {}\n",
    "with requests.Session() as s:\n",
    "    for i,link in enumerate(parsed_df.links):\n",
    "        if i%10 == 0: print(\"Processing link {} of {}\".format(i,L))\n",
    "        r = s.get(link, headers=zp.REQ_HEADERS)\n",
    "        soup = BeautifulSoup(r.content, 'html.parser')\n",
    "        extractDetails(zillow_details, soup)"
   ]
  },
  {
   "cell_type": "code",
   "execution_count": 39,
   "metadata": {},
   "outputs": [
    {
     "name": "stdout",
     "output_type": "stream",
     "text": [
      "zestimate 80 270464\n",
      "basement 80 none\n",
      "heating features 80 natural gas, forced air\n",
      "cooling features 80 central air\n",
      "laundry features 80 in unit, laundry hook-up in unit\n",
      "total spaces 80 1\n",
      "parking features 80 off alley\n",
      "garage spaces 80 1\n",
      "covered spaces 80 -1\n",
      "attached garage 80 -1\n",
      "construction materials 80 brick\n",
      "year built 80 -1\n",
      "hoa fee 80 $236 monthly\n",
      "flooring 80 hardwood\n",
      "annual tax amount 80 -1\n"
     ]
    }
   ],
   "source": [
    "for z in zillow_details:\n",
    "    print(z, len(zillow_details[z]), zillow_details[z][-1])"
   ]
  },
  {
   "cell_type": "code",
   "execution_count": 40,
   "metadata": {},
   "outputs": [],
   "source": [
    "zillow_detail_df = pd.DataFrame(zillow_details)"
   ]
  },
  {
   "cell_type": "code",
   "execution_count": 41,
   "metadata": {},
   "outputs": [
    {
     "data": {
      "text/html": [
       "<div>\n",
       "<style scoped>\n",
       "    .dataframe tbody tr th:only-of-type {\n",
       "        vertical-align: middle;\n",
       "    }\n",
       "\n",
       "    .dataframe tbody tr th {\n",
       "        vertical-align: top;\n",
       "    }\n",
       "\n",
       "    .dataframe thead th {\n",
       "        text-align: right;\n",
       "    }\n",
       "</style>\n",
       "<table border=\"1\" class=\"dataframe\">\n",
       "  <thead>\n",
       "    <tr style=\"text-align: right;\">\n",
       "      <th></th>\n",
       "      <th>zestimate</th>\n",
       "      <th>basement</th>\n",
       "      <th>heating features</th>\n",
       "      <th>cooling features</th>\n",
       "      <th>laundry features</th>\n",
       "      <th>total spaces</th>\n",
       "      <th>parking features</th>\n",
       "      <th>garage spaces</th>\n",
       "      <th>covered spaces</th>\n",
       "      <th>attached garage</th>\n",
       "      <th>construction materials</th>\n",
       "      <th>year built</th>\n",
       "      <th>hoa fee</th>\n",
       "      <th>flooring</th>\n",
       "      <th>annual tax amount</th>\n",
       "    </tr>\n",
       "  </thead>\n",
       "  <tbody>\n",
       "    <tr>\n",
       "      <th>37</th>\n",
       "      <td>1274155</td>\n",
       "      <td>full,english,finished</td>\n",
       "      <td>natural gas</td>\n",
       "      <td>central air</td>\n",
       "      <td>flooring(other), 2nd level, size(6x4)</td>\n",
       "      <td>2</td>\n",
       "      <td>garage</td>\n",
       "      <td>2</td>\n",
       "      <td>2</td>\n",
       "      <td>-1</td>\n",
       "      <td>brick</td>\n",
       "      <td>2010</td>\n",
       "      <td>-1</td>\n",
       "      <td>-1</td>\n",
       "      <td>$20,542</td>\n",
       "    </tr>\n",
       "    <tr>\n",
       "      <th>38</th>\n",
       "      <td>-1</td>\n",
       "      <td>none</td>\n",
       "      <td>natural gas, forced air</td>\n",
       "      <td>central air</td>\n",
       "      <td>in unit, in kitchen</td>\n",
       "      <td>0</td>\n",
       "      <td></td>\n",
       "      <td>0</td>\n",
       "      <td>-1</td>\n",
       "      <td>-1</td>\n",
       "      <td>brick</td>\n",
       "      <td>1923</td>\n",
       "      <td>$259 monthly</td>\n",
       "      <td>hardwood</td>\n",
       "      <td>-1</td>\n",
       "    </tr>\n",
       "    <tr>\n",
       "      <th>39</th>\n",
       "      <td>-1</td>\n",
       "      <td>full,rec/family area</td>\n",
       "      <td>natural gas</td>\n",
       "      <td>-1</td>\n",
       "      <td>-1</td>\n",
       "      <td>0</td>\n",
       "      <td></td>\n",
       "      <td>0</td>\n",
       "      <td>-1</td>\n",
       "      <td>-1</td>\n",
       "      <td>-1</td>\n",
       "      <td>1890</td>\n",
       "      <td>-1</td>\n",
       "      <td>-1</td>\n",
       "      <td>-1</td>\n",
       "    </tr>\n",
       "    <tr>\n",
       "      <th>40</th>\n",
       "      <td>506774</td>\n",
       "      <td>unfinished</td>\n",
       "      <td>forced air, gas</td>\n",
       "      <td>central</td>\n",
       "      <td>-1</td>\n",
       "      <td>1</td>\n",
       "      <td>garage - detached, covered</td>\n",
       "      <td>1</td>\n",
       "      <td>-1</td>\n",
       "      <td>-1</td>\n",
       "      <td>frame</td>\n",
       "      <td>1906</td>\n",
       "      <td>-1</td>\n",
       "      <td>tile, carpet, hardwood</td>\n",
       "      <td>$9,485</td>\n",
       "    </tr>\n",
       "    <tr>\n",
       "      <th>41</th>\n",
       "      <td>343458</td>\n",
       "      <td>-1</td>\n",
       "      <td>-1</td>\n",
       "      <td>-1</td>\n",
       "      <td>-1</td>\n",
       "      <td>0</td>\n",
       "      <td>-1</td>\n",
       "      <td>0</td>\n",
       "      <td>-1</td>\n",
       "      <td>-1</td>\n",
       "      <td>-1</td>\n",
       "      <td>-1</td>\n",
       "      <td>$287 monthly</td>\n",
       "      <td>-1</td>\n",
       "      <td>$6,196</td>\n",
       "    </tr>\n",
       "    <tr>\n",
       "      <th>42</th>\n",
       "      <td>370741</td>\n",
       "      <td>none</td>\n",
       "      <td>natural gas, forced air</td>\n",
       "      <td>central air</td>\n",
       "      <td>gas dryer hookup, in unit, laundry hook-up in ...</td>\n",
       "      <td>1</td>\n",
       "      <td>assigned, off alley</td>\n",
       "      <td>1</td>\n",
       "      <td>-1</td>\n",
       "      <td>-1</td>\n",
       "      <td>brick, limestone</td>\n",
       "      <td>2006</td>\n",
       "      <td>$200 monthly</td>\n",
       "      <td>hardwood</td>\n",
       "      <td>$5,678</td>\n",
       "    </tr>\n",
       "  </tbody>\n",
       "</table>\n",
       "</div>"
      ],
      "text/plain": [
       "    zestimate               basement         heating features  \\\n",
       "37    1274155  full,english,finished              natural gas   \n",
       "38         -1                   none  natural gas, forced air   \n",
       "39         -1   full,rec/family area              natural gas   \n",
       "40     506774             unfinished          forced air, gas   \n",
       "41     343458                     -1                       -1   \n",
       "42     370741                   none  natural gas, forced air   \n",
       "\n",
       "   cooling features                                   laundry features  \\\n",
       "37      central air              flooring(other), 2nd level, size(6x4)   \n",
       "38      central air                                in unit, in kitchen   \n",
       "39               -1                                                 -1   \n",
       "40          central                                                 -1   \n",
       "41               -1                                                 -1   \n",
       "42      central air  gas dryer hookup, in unit, laundry hook-up in ...   \n",
       "\n",
       "   total spaces            parking features garage spaces covered spaces  \\\n",
       "37            2                      garage             2              2   \n",
       "38            0                                         0             -1   \n",
       "39            0                                         0             -1   \n",
       "40            1  garage - detached, covered             1             -1   \n",
       "41            0                          -1             0             -1   \n",
       "42            1         assigned, off alley             1             -1   \n",
       "\n",
       "   attached garage construction materials year built       hoa fee  \\\n",
       "37              -1                  brick       2010            -1   \n",
       "38              -1                  brick       1923  $259 monthly   \n",
       "39              -1                     -1       1890            -1   \n",
       "40              -1                  frame       1906            -1   \n",
       "41              -1                     -1         -1  $287 monthly   \n",
       "42              -1       brick, limestone       2006  $200 monthly   \n",
       "\n",
       "                  flooring annual tax amount  \n",
       "37                      -1           $20,542  \n",
       "38                hardwood                -1  \n",
       "39                      -1                -1  \n",
       "40  tile, carpet, hardwood            $9,485  \n",
       "41                      -1            $6,196  \n",
       "42                hardwood            $5,678  "
      ]
     },
     "execution_count": 41,
     "metadata": {},
     "output_type": "execute_result"
    }
   ],
   "source": [
    "zillow_detail_df[37:43]\n",
    "\n",
    "    \n"
   ]
  },
  {
   "cell_type": "code",
   "execution_count": 42,
   "metadata": {},
   "outputs": [
    {
     "data": {
      "text/plain": [
       "Index(['zestimate', 'basement', 'heating features', 'cooling features',\n",
       "       'laundry features', 'total spaces', 'parking features', 'garage spaces',\n",
       "       'covered spaces', 'attached garage', 'construction materials',\n",
       "       'year built', 'hoa fee', 'flooring', 'annual tax amount'],\n",
       "      dtype='object')"
      ]
     },
     "execution_count": 42,
     "metadata": {},
     "output_type": "execute_result"
    }
   ],
   "source": [
    "zillow_detail_df.columns"
   ]
  },
  {
   "cell_type": "code",
   "execution_count": 16,
   "metadata": {},
   "outputs": [],
   "source": [
    "# #calculate the zestimate and insert into a dataframe\n",
    "# zillow_zestimate = []\n",
    "# for link in df['links']:\n",
    "#     r = s.get(link, headers=req_headers)\n",
    "#     soup = BeautifulSoup(r.content, 'html.parser')\n",
    "#     home_value = soup.select_one('h4:contains(\"Home value\")')\n",
    "#     if not home_value:\n",
    "#         home_value = soup.select_one('.zestimate').text.split()[-1]\n",
    "#     else:\n",
    "#         home_value = home_value.find_next('p').get_text(strip=True)\n",
    "#     zillow_zestimate.append(home_value)\n",
    "\n",
    "# cols=['zestimate']\n",
    "# zestimate_result = pd.DataFrame(zillow_zestimate, columns=cols)\n",
    "# # zestimate_result\n",
    "\n",
    "# #convert zestimate column to float, and remove , and $\n",
    "# zestimate_result['zestimate'] = zestimate_result['zestimate'].str.replace('$','')\n",
    "# zestimate_result['zestimate'] = zestimate_result['zestimate'].str.replace('/mo','')\n",
    "# zestimate_result['zestimate'] = zestimate_result['zestimate'].str.replace(',','')\n",
    "\n",
    "# #covert rows with non zestimate to 0\n",
    "# def non_zestimate(zestimate_result):\n",
    "#     if len(zestimate_result['zestimate']) > 20:\n",
    "#         return '0'\n",
    "#     elif len(zestimate_result['zestimate']) < 5:\n",
    "#         return '0'\n",
    "#     else:\n",
    "#         return zestimate_result['zestimate']\n",
    "\n",
    "# zestimate_result['zestimate'] = zestimate_result.apply(non_zestimate,axis=1)\n",
    "\n",
    "# # zestimate_result\n",
    "\n",
    "# #concat zestimate dataframe and original df\n",
    "# df = pd.concat([df, zestimate_result], axis=1)\n",
    "# df['zestimate'] = df['zestimate'].astype('float')\n",
    "\n",
    "# #create best deal column and sort by best_deal\n",
    "# df ['best_deal'] = df['prices'] - df['zestimate']\n",
    "# df = df.sort_values(by='best_deal')\n",
    "\n",
    "# df"
   ]
  },
  {
   "cell_type": "code",
   "execution_count": null,
   "metadata": {},
   "outputs": [],
   "source": []
  },
  {
   "cell_type": "code",
   "execution_count": null,
   "metadata": {},
   "outputs": [],
   "source": []
  }
 ],
 "metadata": {
  "kernelspec": {
   "display_name": "Python 3",
   "language": "python",
   "name": "python3"
  },
  "language_info": {
   "codemirror_mode": {
    "name": "ipython",
    "version": 3
   },
   "file_extension": ".py",
   "mimetype": "text/x-python",
   "name": "python",
   "nbconvert_exporter": "python",
   "pygments_lexer": "ipython3",
   "version": "3.8.3"
  }
 },
 "nbformat": 4,
 "nbformat_minor": 4
}
